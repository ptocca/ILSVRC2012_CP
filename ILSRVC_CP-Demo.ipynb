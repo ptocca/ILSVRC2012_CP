{
 "cells": [
  {
   "cell_type": "code",
   "execution_count": null,
   "metadata": {
    "ExecuteTime": {
     "end_time": "2020-07-07T18:43:50.158689Z",
     "start_time": "2020-07-07T18:43:49.063479Z"
    }
   },
   "outputs": [],
   "source": [
    "from tensorflow.keras.applications.resnet50 import ResNet50\n",
    "from tensorflow.keras.preprocessing import image as keras_image\n",
    "from tensorflow.keras.applications.resnet50 import preprocess_input, decode_predictions\n",
    "import numpy as np\n",
    "import os\n",
    "import joblib"
   ]
  },
  {
   "cell_type": "code",
   "execution_count": null,
   "metadata": {
    "ExecuteTime": {
     "end_time": "2020-07-07T18:43:50.168499Z",
     "start_time": "2020-07-07T18:43:50.161499Z"
    }
   },
   "outputs": [],
   "source": [
    "from IPython.display import display, clear_output, HTML\n",
    "display(HTML(\"<style>.container { width:90% !important; }</style>\"))"
   ]
  },
  {
   "cell_type": "code",
   "execution_count": null,
   "metadata": {
    "ExecuteTime": {
     "end_time": "2020-07-07T18:43:50.217183Z",
     "start_time": "2020-07-07T18:43:50.171593Z"
    }
   },
   "outputs": [],
   "source": [
    "import tensorflow as tf\n",
    "\n",
    "physical_devices = tf.config.list_physical_devices('GPU')\n",
    "try:\n",
    "    tf.config.experimental.set_memory_growth(physical_devices[0], True)\n",
    "except:\n",
    "    # Invalid device or cannot modify virtual devices once initialized.\n",
    "    print(\"No GPU?\")\n",
    "    clear_output()"
   ]
  },
  {
   "cell_type": "code",
   "execution_count": null,
   "metadata": {
    "ExecuteTime": {
     "end_time": "2020-07-07T18:43:52.111024Z",
     "start_time": "2020-07-07T18:43:50.219856Z"
    },
    "tags": []
   },
   "outputs": [],
   "source": [
    "print(\"Setting up pre-trained keras ResNet50 model\")\n",
    "model = ResNet50(weights='imagenet')\n",
    "print(\"Model ready\")\n",
    "clear_output()"
   ]
  },
  {
   "cell_type": "code",
   "execution_count": null,
   "metadata": {
    "ExecuteTime": {
     "end_time": "2020-07-07T18:43:52.115552Z",
     "start_time": "2020-07-07T18:43:52.113354Z"
    }
   },
   "outputs": [],
   "source": [
    "import h5py"
   ]
  },
  {
   "cell_type": "code",
   "execution_count": null,
   "metadata": {
    "ExecuteTime": {
     "end_time": "2020-07-07T18:43:52.123818Z",
     "start_time": "2020-07-07T18:43:52.117928Z"
    }
   },
   "outputs": [],
   "source": [
    "import urllib.request\n",
    "if not os.path.exists('val_preds.h5'):\n",
    "    print(\"Downloading MICP calibration data (190MB) - be patient!\")\n",
    "    urllib.request.urlretrieve(\"https://cml.rhul.ac.uk/people/ptocca/ILSVRC2012-CP/val_preds.h5\",\n",
    "                               'val_preds.h5')\n",
    "    clear_output()"
   ]
  },
  {
   "cell_type": "code",
   "execution_count": null,
   "metadata": {
    "ExecuteTime": {
     "end_time": "2020-07-07T18:43:52.161065Z",
     "start_time": "2020-07-07T18:43:52.126187Z"
    }
   },
   "outputs": [],
   "source": [
    "with h5py.File('val_preds.h5','r') as f:\n",
    "    preds_cal = f['preds'][:]"
   ]
  },
  {
   "cell_type": "code",
   "execution_count": null,
   "metadata": {
    "ExecuteTime": {
     "end_time": "2020-07-07T18:43:52.167816Z",
     "start_time": "2020-07-07T18:43:52.163269Z"
    }
   },
   "outputs": [],
   "source": [
    "def pValues(calibrationAlphas,testAlphas,randomized=False):\n",
    "    testAlphas = np.array(testAlphas)\n",
    "    sortedCalAlphas = np.sort(calibrationAlphas)\n",
    "    \n",
    "    leftPositions = np.searchsorted(sortedCalAlphas,testAlphas)\n",
    "    \n",
    "    if randomized:\n",
    "        rightPositions = np.searchsorted(sortedCalAlphas,testAlphas,side='right')\n",
    "        ties  = rightPositions-leftPositions+1   # ties in cal set plus the test alpha itself\n",
    "        randomizedTies = ties * np.random.uniform(size=len(ties))\n",
    "        return  (len(calibrationAlphas) - rightPositions + randomizedTies)/(len(calibrationAlphas)+1)\n",
    "    else:\n",
    "        return  (len(calibrationAlphas) - leftPositions + 1)/(len(calibrationAlphas)+1)\n"
   ]
  },
  {
   "cell_type": "code",
   "execution_count": null,
   "metadata": {},
   "outputs": [],
   "source": []
  },
  {
   "cell_type": "code",
   "execution_count": null,
   "metadata": {
    "ExecuteTime": {
     "end_time": "2020-07-07T18:43:52.174365Z",
     "start_time": "2020-07-07T18:43:52.171474Z"
    }
   },
   "outputs": [],
   "source": [
    "def rev_score(scores,label):\n",
    "    return -scores[:,label]\n",
    "\n",
    "\n",
    "def ratio_own_to_max(scores, label):\n",
    "    mask = np.ones(scores.shape[1],dtype=np.bool)\n",
    "    mask[label] = False\n",
    "\n",
    "    return np.amax(scores, axis=1, where=mask, initial=0) / scores[:,label]"
   ]
  },
  {
   "cell_type": "code",
   "execution_count": null,
   "metadata": {
    "ExecuteTime": {
     "end_time": "2020-07-07T18:43:52.179462Z",
     "start_time": "2020-07-07T18:43:52.176169Z"
    }
   },
   "outputs": [],
   "source": [
    "def micp_pValues(scores_cal,scores_test,y_cal,ncm):\n",
    "    \"\"\"Compute p-values for a Mondrian Inductive Conformal Predictor\n",
    "    scores_cal,scores_test: arrays of shape (objects,labels) of scores for \n",
    "                            calibration set and test set\n",
    "    y_cal: array of shape (objects,) with the labels of the calibration set\n",
    "    ncm: function of scores and label, computing the NCM\"\"\"\n",
    "    \n",
    "    micp_pValues = []\n",
    "\n",
    "    for i in range(scores_test.shape[1]):\n",
    "        ncm_cal = ncm(scores_cal[y_cal==i], i)\n",
    "        ncm_test = ncm(scores_test, i)\n",
    "        p_i = pValues(ncm_cal,ncm_test)\n",
    "        \n",
    "        micp_pValues.append(p_i)\n",
    "\n",
    "    micp_pValues = np.array(micp_pValues)\n",
    "    \n",
    "    return micp_pValues"
   ]
  },
  {
   "cell_type": "code",
   "execution_count": null,
   "metadata": {
    "ExecuteTime": {
     "end_time": "2020-07-07T18:43:52.186897Z",
     "start_time": "2020-07-07T18:43:52.180994Z"
    }
   },
   "outputs": [],
   "source": [
    "# ilsrvc_dir = \"/mnt/d/Research/ILSVRC2012/\"\n",
    "ilsrvc_dir = \".\""
   ]
  },
  {
   "cell_type": "code",
   "execution_count": null,
   "metadata": {
    "ExecuteTime": {
     "end_time": "2020-07-07T18:43:52.192076Z",
     "start_time": "2020-07-07T18:43:52.188407Z"
    }
   },
   "outputs": [],
   "source": [
    "gt_cal_file = os.path.join(ilsrvc_dir,\"cal_gt.txt\")\n",
    "gt_test_file = os.path.join(ilsrvc_dir,\"test_gt.txt\")\n",
    "lbls_file = os.path.join(ilsrvc_dir,\"labels.txt\")"
   ]
  },
  {
   "cell_type": "code",
   "execution_count": null,
   "metadata": {
    "ExecuteTime": {
     "end_time": "2020-07-07T18:43:52.197585Z",
     "start_time": "2020-07-07T18:43:52.193622Z"
    }
   },
   "outputs": [],
   "source": [
    "n_to_ki = {}\n",
    "ki_to_synset = {}\n",
    "with open(os.path.join(ilsrvc_dir,'synset_words.txt')) as f:\n",
    "    for i,l in enumerate(f):\n",
    "        ki_to_synset[i]=l[10:].strip()"
   ]
  },
  {
   "cell_type": "code",
   "execution_count": null,
   "metadata": {
    "ExecuteTime": {
     "end_time": "2020-07-07T18:43:52.309830Z",
     "start_time": "2020-07-07T18:43:52.199289Z"
    }
   },
   "outputs": [],
   "source": [
    "ground_truth_ki_cal = np.loadtxt(gt_cal_file,dtype=np.int)\n",
    "ground_truth_ki_test = np.loadtxt(gt_test_file,dtype=np.int)"
   ]
  },
  {
   "cell_type": "code",
   "execution_count": null,
   "metadata": {
    "ExecuteTime": {
     "end_time": "2020-07-07T18:43:52.317412Z",
     "start_time": "2020-07-07T18:43:52.311911Z"
    }
   },
   "outputs": [],
   "source": [
    "import io"
   ]
  },
  {
   "cell_type": "code",
   "execution_count": null,
   "metadata": {
    "ExecuteTime": {
     "end_time": "2020-07-07T18:43:52.322290Z",
     "start_time": "2020-07-07T18:43:52.319349Z"
    }
   },
   "outputs": [],
   "source": [
    "import PIL.Image\n",
    "import joblib"
   ]
  },
  {
   "cell_type": "code",
   "execution_count": null,
   "metadata": {
    "ExecuteTime": {
     "end_time": "2020-07-07T18:43:52.327906Z",
     "start_time": "2020-07-07T18:43:52.323790Z"
    }
   },
   "outputs": [],
   "source": [
    "mem = joblib.Memory('/dev/shm/joblib',verbose=0)\n",
    "\n",
    "@mem.cache\n",
    "def getImage(url):\n",
    "    img_data = PIL.Image.open(urllib.request.urlopen(url))\n",
    "    if img_data.mode != 'RGB':\n",
    "        img_data = img_data.convert('RGB')\n",
    "    img_data = img_data.resize((224,224),resample=PIL.Image.NEAREST)\n",
    "    return img_data    "
   ]
  },
  {
   "cell_type": "code",
   "execution_count": null,
   "metadata": {
    "ExecuteTime": {
     "end_time": "2020-07-07T18:43:52.334976Z",
     "start_time": "2020-07-07T18:43:52.330992Z"
    }
   },
   "outputs": [],
   "source": [
    "def get_prob_sets(preds, eps):\n",
    "    preds_as = np.argsort(-preds,axis=1)    # indices of the labels in descending order by prob\n",
    "    preds_cumul = np.cumsum(np.take_along_axis(preds,preds_as,axis=1),axis=1)\n",
    "\n",
    "    # We get the smallest sets that exceed 1-eps cumulative probability\n",
    "    set_masks = preds_cumul<1-eps\n",
    "    set_masks[:,1:] = set_masks[:,:-1]\n",
    "    set_masks[:,0] = True\n",
    "\n",
    "    sets = [(pr_as[m],pr[pr_as[m]]) for pr_as, m,pr in zip(preds_as,set_masks,preds)]\n",
    "    return sets"
   ]
  },
  {
   "cell_type": "code",
   "execution_count": null,
   "metadata": {
    "ExecuteTime": {
     "end_time": "2020-07-07T18:43:53.071256Z",
     "start_time": "2020-07-07T18:43:52.336455Z"
    }
   },
   "outputs": [],
   "source": [
    "############################################################################################################\n",
    "############################################################################################################\n",
    "\n",
    "import pandas as pd\n",
    "\n",
    "import panel as pn\n",
    "import holoviews as hv\n",
    "from bokeh.plotting import figure\n",
    "from bokeh.models import LinearAxis, Range1d, ColumnDataSource\n",
    "\n",
    "#hv.extension('bokeh')\n",
    "pn.extension('mathjax')"
   ]
  },
  {
   "cell_type": "code",
   "execution_count": null,
   "metadata": {
    "ExecuteTime": {
     "end_time": "2020-07-07T18:43:53.075526Z",
     "start_time": "2020-07-07T18:43:53.073533Z"
    }
   },
   "outputs": [],
   "source": [
    "with open(\"ILSRVC_CP_Notes.html\") as f:\n",
    "    notes = f.read()"
   ]
  },
  {
   "cell_type": "code",
   "execution_count": null,
   "metadata": {
    "ExecuteTime": {
     "end_time": "2020-07-07T18:43:53.093100Z",
     "start_time": "2020-07-07T18:43:53.077219Z"
    }
   },
   "outputs": [],
   "source": [
    "initial_pic = 1000\n",
    "initial_eps = 0.2\n",
    "initial_ncm = \"NegProb\"\n",
    "\n",
    "import param\n",
    "\n",
    "class gui_data(param.Parameterized):\n",
    "    test_preds = param.Array()\n",
    "    p_vals = param.Array()\n",
    "    ps = param.Array()\n",
    "    sorting_by_p_val = param.Array()"
   ]
  },
  {
   "cell_type": "code",
   "execution_count": null,
   "metadata": {
    "ExecuteTime": {
     "end_time": "2020-07-07T18:43:53.093100Z",
     "start_time": "2020-07-07T18:43:53.077219Z"
    }
   },
   "outputs": [],
   "source": [
    "heading = pn.pane.HTML(\"<h1>Demo of CP using ResNet50 on ImageNet data</h1>\", align=\"center\")\n",
    "\n",
    "desc = pn.pane.HTML(\"Basiliscus Horribilis\")\n",
    "desc_frame = pn.Row(pn.pane.HTML(\"ImageNet label:\"), desc, align=\"center\")\n",
    "\n",
    "# Slider for image selection\n",
    "pic_idx = pn.widgets.IntSlider(value=initial_pic, name=\"Image\",\n",
    "                               start=1, end=2000, step=5, align='center')\n",
    "\n",
    "# Slider for significance level\n",
    "eps_slider = pn.widgets.FloatSlider(value=initial_eps, name=\"Epsilon\",\n",
    "                             start=1e-8, end=1.0, step=0.01,\n",
    "                             align='center')\n",
    "\n",
    "# DataFrame with CP Prediction set\n",
    "CP = pn.widgets.DataFrame(height=400, disabled=True)\n",
    "\n",
    "# DataFrame with ResNet50 Prediction set\n",
    "resnet50 = pn.widgets.DataFrame(height=400, disabled=True)\n",
    "\n",
    "# Choice of NonConformity Measure\n",
    "NCM = pn.widgets.RadioBoxGroup(name=\"NCM Choices\",options=['NegProb','Ratio'],\n",
    "                       value=initial_ncm)\n",
    "\n",
    "\n",
    "# Plot of NCM cumulative distribution function\n",
    "ncm_source = ColumnDataSource(data = dict(x=[0.0, 1.0], y=[0.0, 1.0]))\n",
    "\n",
    "p_value_source = ColumnDataSource(data = dict(x=[0.5], y=[0.5]))\n",
    "\n",
    "\n",
    "NCM_hist_output = figure(plot_height=400, plot_width=400,\n",
    "                         title=\"Distribution of NCM\",\n",
    "                         y_range=[0.0, 1.0],\n",
    "                         toolbar_location=None)\n",
    "NCM_hist_output.xaxis.axis_label = \"NonConformity Measure\"\n",
    "NCM_hist_output.yaxis.axis_label = \"ECDF of NCM of calibration examples\"\n",
    "\n",
    "\n",
    "# Setting the second y axis range name and range\n",
    "NCM_hist_output.extra_y_ranges = {\"p-values\": Range1d(start=1, end=0)}\n",
    "\n",
    "# Adding the second axis to the plot.\n",
    "NCM_hist_output.add_layout(LinearAxis(y_range_name=\"p-values\",axis_label=\"p-value\"), 'right')\n",
    "\n",
    "\n",
    "\n",
    "NCM_hist_output.line(x=\"x\", y=\"y\", name='NCM',source=ncm_source)\n",
    "NCM_hist_output.circle(x=\"x\", y=\"y\",source=p_value_source, color='red',\n",
    "                                  y_range_name=\"p-values\")"
   ]
  },
  {
   "cell_type": "code",
   "execution_count": null,
   "metadata": {
    "ExecuteTime": {
     "end_time": "2020-07-07T18:43:53.093100Z",
     "start_time": "2020-07-07T18:43:53.077219Z"
    }
   },
   "outputs": [],
   "source": [
    "@pn.depends(pic_idx.param.value)\n",
    "def image(idx):\n",
    "    if 0:   # for development environment\n",
    "        img_file = os.path.join(\".\",\"img\",\"ILSVRC2012_valsub_%08d.JPEG\"%i)\n",
    "        img_data = keras_image.load_img(img_file, target_size=(224, 224))\n",
    "    else:\n",
    "        url=\"\"\"https://cml.rhul.ac.uk/people/ptocca/ILSVRC2012-CP/img/ILSVRC2012_valsub_%08d.JPEG\"\"\"%idx\n",
    "        img_data = getImage(url)\n",
    "\n",
    "    output = io.BytesIO()\n",
    "    img_data.save(output,format=\"PNG\")\n",
    "\n",
    "    # compute ResNet50 preds\n",
    "    x = keras_image.img_to_array(img_data)\n",
    "    img_rgb = x.astype(np.uint8)\n",
    "\n",
    "    x = np.expand_dims(x, axis=0)\n",
    "    x = preprocess_input(x)\n",
    "    gui_data.test_preds = model.predict(x)\n",
    "\n",
    "    ## update ground truth widget\n",
    "    lbl = ki_to_synset[ground_truth_ki_test[idx-1]]\n",
    "\n",
    "    desc = pn.pane.HTML(lbl)\n",
    "    desc_frame = pn.Row(pn.pane.HTML(\"ImageNet label:\"), desc, align=\"center\")\n",
    "\n",
    "    img = hv.RGB(data=img_rgb).opts(height=400, width=400,\n",
    "                                     xaxis=None, yaxis=None,\n",
    "                                     toolbar=None, align=\"center\")\n",
    "    \n",
    "    panel = pn.Column(img, desc_frame)\n",
    "\n",
    "    return panel"
   ]
  },
  {
   "cell_type": "code",
   "execution_count": null,
   "metadata": {
    "ExecuteTime": {
     "end_time": "2020-07-07T18:43:53.099007Z",
     "start_time": "2020-07-07T18:43:53.094961Z"
    },
    "pycharm": {
     "name": "#%%\n"
    }
   },
   "outputs": [],
   "source": [
    "@pn.depends(eps_slider.param.value, gui_data.param.test_preds)\n",
    "def ResNet_pred_set(eps, test_preds):\n",
    "    if test_preds is None:\n",
    "        return\n",
    "    \n",
    "    resNet50_labels, resNet50_probs = get_prob_sets(test_preds.reshape(1,-1), eps=eps)[0]\n",
    "\n",
    "    df_dict = {}\n",
    "    df_dict['Prob'] =  [\"%0.3f\"%p for p in resNet50_probs]\n",
    "    df_dict['label'] = [ki_to_synset[k] for k in resNet50_labels]\n",
    "\n",
    "    ## update resNet50 widget\n",
    "    name = \"ResNet50 (prob) at aggr prob %0.2f\"%(1-eps)\n",
    "    data = pd.DataFrame(data=df_dict).set_index('label')\n",
    "    \n",
    "    resnet50.value = data\n",
    "    \n",
    "    return resnet50"
   ]
  },
  {
   "cell_type": "code",
   "execution_count": null,
   "metadata": {},
   "outputs": [],
   "source": [
    "@pn.depends(NCM.param.value, eps_slider.param.value, \n",
    "            gui_data.param.test_preds)\n",
    "def CP_pred_set(ncm, eps, test_preds):\n",
    "    global preds_cal\n",
    "    global ground_truth_ki_cal\n",
    "\n",
    "    if test_preds is None:\n",
    "        return\n",
    "    # compute CP\n",
    "    if ncm=='NegProb':\n",
    "        ncm_f = rev_score\n",
    "    elif ncm=='Ratio':\n",
    "        ncm_f = ratio_own_to_max\n",
    "        \n",
    "    gui_data.p_vals = micp_pValues(preds_cal, test_preds, ground_truth_ki_cal, ncm=ncm_f)\n",
    "    gui_data.ps = np.argwhere(gui_data.p_vals>eps)[:,0].T\n",
    "    \n",
    "    ps_p_vals = gui_data.p_vals[gui_data.ps].flatten()\n",
    "    gui_data.sorting_by_p_val = np.argsort(ps_p_vals)[::-1]\n",
    "    df_dict = {}\n",
    "    df_dict['p-value'] =  [\"%0.3f\"%p for p in ps_p_vals[gui_data.sorting_by_p_val]]\n",
    "    df_dict['label'] = [ki_to_synset[k] for k in gui_data.ps[gui_data.sorting_by_p_val]]\n",
    "\n",
    "    ## update CP widget\n",
    "    name = \"CP (p-val) pred set at significance level %0.2f\"%eps\n",
    "    value = pd.DataFrame(data=df_dict).set_index(\"label\")\n",
    "    \n",
    "    CP.value = value\n",
    "    \n",
    "    return CP"
   ]
  },
  {
   "cell_type": "code",
   "execution_count": null,
   "metadata": {},
   "outputs": [],
   "source": [
    "from statsmodels.distributions.empirical_distribution import ECDF\n",
    "\n",
    "@pn.depends(NCM.param.value, CP.param.selection, gui_data.param.ps, gui_data.param.p_vals, gui_data.param.sorting_by_p_val)\n",
    "def NCM_plot(ncm, selection, ps, p_vals, sorting_by_p_val):\n",
    "    global ground_truth_ki_cal, ki_to_synset, preds_cal\n",
    "\n",
    "    if p_vals is None:\n",
    "        return\n",
    "    \n",
    "    if ncm=='NegProb':\n",
    "        ncm_f = rev_score\n",
    "    elif ncm=='Ratio':\n",
    "        ncm_f = ratio_own_to_max\n",
    "    \n",
    "    try:\n",
    "        sel_p_val_label = ps[sorting_by_p_val[selection[0]]]\n",
    "    except IndexError:\n",
    "        sel_p_val_label = np.argmax(p_vals)\n",
    "        \n",
    "    ncm_cal = ncm_f(preds_cal, sel_p_val_label)\n",
    "    ncm_test = ncm_f(gui_data.test_preds, sel_p_val_label)\n",
    "    \n",
    "    ncm_cal_mondrian = ncm_cal[ground_truth_ki_cal==sel_p_val_label]\n",
    "    \n",
    "    ecdf_ncm = ECDF(np.r_[ncm_cal_mondrian, ncm_test],side='left')   # TODO: check number of dimensions?\n",
    "\n",
    "    label_synset = ki_to_synset[sel_p_val_label]\n",
    "    if len(label_synset) > 15:\n",
    "        label_synset = label_synset[:15] + \"...\"\n",
    "\n",
    "    sel_p_val = p_vals[sel_p_val_label]\n",
    "\n",
    "    ncm_source.data = dict(x = ecdf_ncm.x[1:], y=ecdf_ncm(ecdf_ncm.x[1:]))\n",
    "    p_value_source.data = dict(x=[ncm_test[0]],y = [sel_p_val[0]])\n",
    "    \n",
    "    return NCM_hist_output"
   ]
  },
  {
   "cell_type": "code",
   "execution_count": null,
   "metadata": {},
   "outputs": [],
   "source": [
    "ncm_panel = pn.Column(pn.pane.HTML(\"\"),  # Just to align nicely\n",
    "                      NCM,\n",
    "                      NCM_plot)\n",
    "\n",
    "gui = pn.Column(heading,\n",
    "                image,pic_idx,\n",
    "                eps_slider,\n",
    "                pn.Row(ResNet_pred_set, ncm_panel , CP_pred_set))"
   ]
  },
  {
   "cell_type": "code",
   "execution_count": null,
   "outputs": [],
   "source": [
    "gui.servable()"
   ],
   "metadata": {
    "collapsed": false,
    "pycharm": {
     "name": "#%%\n"
    }
   }
  },
  {
   "cell_type": "code",
   "execution_count": null,
   "outputs": [],
   "source": [
    "\n",
    "\n",
    "\n"
   ],
   "metadata": {
    "collapsed": false,
    "pycharm": {
     "name": "#%%\n"
    }
   }
  },
  {
   "cell_type": "code",
   "execution_count": null,
   "outputs": [],
   "source": [],
   "metadata": {
    "collapsed": false,
    "pycharm": {
     "name": "#%%\n"
    }
   }
  },
  {
   "cell_type": "code",
   "execution_count": null,
   "outputs": [],
   "source": [],
   "metadata": {
    "collapsed": false,
    "pycharm": {
     "name": "#%%\n"
    }
   }
  },
  {
   "cell_type": "code",
   "execution_count": null,
   "outputs": [],
   "source": [],
   "metadata": {
    "collapsed": false,
    "pycharm": {
     "name": "#%%\n"
    }
   }
  },
  {
   "cell_type": "code",
   "execution_count": null,
   "metadata": {},
   "outputs": [],
   "source": [
    "# srv.stop()"
   ]
  },
  {
   "cell_type": "code",
   "execution_count": null,
   "metadata": {
    "ExecuteTime": {
     "end_time": "2020-07-07T18:43:53.099007Z",
     "start_time": "2020-07-07T18:43:53.094961Z"
    },
    "pycharm": {
     "name": "#%%\n"
    }
   },
   "outputs": [],
   "source": [
    "\n",
    "\n",
    "\n"
   ]
  },
  {
   "cell_type": "code",
   "execution_count": null,
   "metadata": {},
   "outputs": [],
   "source": []
  },
  {
   "cell_type": "code",
   "execution_count": null,
   "metadata": {},
   "outputs": [],
   "source": []
  },
  {
   "cell_type": "code",
   "execution_count": null,
   "metadata": {},
   "outputs": [],
   "source": []
  },
  {
   "cell_type": "code",
   "execution_count": null,
   "metadata": {
    "ExecuteTime": {
     "end_time": "2020-07-07T18:43:55.424892Z",
     "start_time": "2020-07-07T18:43:55.423046Z"
    },
    "pycharm": {
     "name": "#%%\n"
    }
   },
   "outputs": [],
   "source": [
    "# srv.stop()"
   ]
  },
  {
   "cell_type": "code",
   "execution_count": null,
   "metadata": {},
   "outputs": [],
   "source": [
    "# osrv = gui.show()"
   ]
  },
  {
   "cell_type": "code",
   "execution_count": null,
   "metadata": {
    "collapsed": false,
    "jupyter": {
     "outputs_hidden": false
    },
    "pycharm": {
     "name": "#%%\n"
    }
   },
   "outputs": [],
   "source": [
    "# osrv.stop()"
   ]
  },
  {
   "cell_type": "code",
   "execution_count": null,
   "metadata": {
    "collapsed": false,
    "jupyter": {
     "outputs_hidden": false
    },
    "pycharm": {
     "name": "#%%\n"
    }
   },
   "outputs": [],
   "source": []
  },
  {
   "cell_type": "code",
   "execution_count": null,
   "metadata": {},
   "outputs": [],
   "source": []
  },
  {
   "cell_type": "code",
   "execution_count": null,
   "metadata": {},
   "outputs": [],
   "source": []
  }
 ],
 "metadata": {
  "kernelspec": {
   "display_name": "Python 3.7.6 64-bit ('tf_ilsvrc': conda)",
   "language": "python",
   "name": "python37664bittfilsvrccondaac7ef3327698412cb6299e7d2e08b83e"
  },
  "language_info": {
   "codemirror_mode": {
    "name": "ipython",
    "version": 3
   },
   "file_extension": ".py",
   "mimetype": "text/x-python",
   "name": "python",
   "nbconvert_exporter": "python",
   "pygments_lexer": "ipython3",
   "version": "3.7.6"
  }
 },
 "nbformat": 4,
 "nbformat_minor": 4
}