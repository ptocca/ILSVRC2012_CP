{
 "cells": [
  {
   "cell_type": "code",
   "execution_count": 1,
   "metadata": {},
   "outputs": [],
   "source": [
    "from tensorflow.keras.applications.resnet50 import ResNet50\n",
    "from tensorflow.keras.preprocessing import image as keras_image\n",
    "from tensorflow.keras.applications.resnet50 import preprocess_input, decode_predictions\n",
    "import numpy as np\n",
    "import os\n",
    "import joblib"
   ]
  },
  {
   "cell_type": "code",
   "execution_count": 2,
   "metadata": {},
   "outputs": [
    {
     "output_type": "display_data",
     "data": {
      "text/plain": "<IPython.core.display.HTML object>",
      "text/html": "<style>.container { width:90% !important; }</style>"
     },
     "metadata": {}
    }
   ],
   "source": [
    "from IPython.display import display, clear_output, HTML\n",
    "display(HTML(\"<style>.container { width:90% !important; }</style>\"))"
   ]
  },
  {
   "cell_type": "code",
   "execution_count": 5,
   "metadata": {},
   "outputs": [],
   "source": [
    "import tensorflow as tf\n",
    "\n",
    "physical_devices = tf.config.list_physical_devices('GPU')\n",
    "try:\n",
    "    tf.config.experimental.set_memory_growth(physical_devices[0], True)\n",
    "except:\n",
    "    # Invalid device or cannot modify virtual devices once initialized.\n",
    "    print(\"No GPU?\")\n",
    "    clear_output()"
   ]
  },
  {
   "cell_type": "code",
   "execution_count": 6,
   "metadata": {
    "tags": []
   },
   "outputs": [],
   "source": [
    "print(\"Setting up pre-trained keras ResNet50 model\")\n",
    "model = ResNet50(weights='imagenet')\n",
    "print(\"Model ready\")\n",
    "clear_output()"
   ]
  },
  {
   "cell_type": "code",
   "execution_count": 7,
   "metadata": {},
   "outputs": [],
   "source": [
    "import h5py"
   ]
  },
  {
   "cell_type": "code",
   "execution_count": 8,
   "metadata": {},
   "outputs": [],
   "source": [
    "import urllib.request\n",
    "if not os.path.exists('val_preds.h5'):\n",
    "    print(\"Downloading MICP calibration data (190MB) - be patient!\")\n",
    "    urllib.request.urlretrieve(\"https://cml.rhul.ac.uk/people/ptocca/ILSVRC2012-CP/val_preds.h5\",\n",
    "                               'val_preds.h5')\n",
    "    clear_output()"
   ]
  },
  {
   "cell_type": "code",
   "execution_count": 9,
   "metadata": {},
   "outputs": [],
   "source": [
    "with h5py.File('val_preds.h5','r') as f:\n",
    "    preds_cal = f['preds'][:]"
   ]
  },
  {
   "cell_type": "code",
   "execution_count": 10,
   "metadata": {},
   "outputs": [],
   "source": [
    "def pValues(calibrationAlphas,testAlphas,randomized=False):\n",
    "    testAlphas = np.array(testAlphas)\n",
    "    sortedCalAlphas = np.sort(calibrationAlphas)\n",
    "    \n",
    "    leftPositions = np.searchsorted(sortedCalAlphas,testAlphas)\n",
    "    \n",
    "    if randomized:\n",
    "        rightPositions = np.searchsorted(sortedCalAlphas,testAlphas,side='right')\n",
    "        ties  = rightPositions-leftPositions+1   # ties in cal set plus the test alpha itself\n",
    "        randomizedTies = ties * np.random.uniform(size=len(ties))\n",
    "        return  (len(calibrationAlphas) - rightPositions + randomizedTies)/(len(calibrationAlphas)+1)\n",
    "    else:\n",
    "        return  (len(calibrationAlphas) - leftPositions + 1)/(len(calibrationAlphas)+1)\n"
   ]
  },
  {
   "cell_type": "code",
   "execution_count": null,
   "metadata": {},
   "outputs": [],
   "source": []
  },
  {
   "cell_type": "code",
   "execution_count": 11,
   "metadata": {},
   "outputs": [],
   "source": [
    "def rev_score(scores,label):\n",
    "    return -scores[:,label]\n",
    "\n",
    "\n",
    "def ratio_own_to_max(scores, label):\n",
    "    mask = np.ones(scores.shape[1],dtype=np.bool)\n",
    "    mask[label] = False\n",
    "\n",
    "    return np.amax(scores, axis=1, where=mask, initial=0) / scores[:,label]"
   ]
  },
  {
   "cell_type": "code",
   "execution_count": 12,
   "metadata": {},
   "outputs": [],
   "source": [
    "def micp_pValues(scores_cal,scores_test,y_cal,ncm):\n",
    "    \"\"\"Compute p-values for a Mondrian Inductive Conformal Predictor\n",
    "    scores_cal,scores_test: arrays of shape (objects,labels) of scores for \n",
    "                            calibration set and test set\n",
    "    y_cal: array of shape (objects,) with the labels of the calibration set\n",
    "    ncm: function of scores and label, computing the NCM\"\"\"\n",
    "    \n",
    "    micp_pValues = []\n",
    "\n",
    "    for i in range(scores_test.shape[1]):\n",
    "        ncm_cal = ncm(scores_cal[y_cal==i], i)\n",
    "        ncm_test = ncm(scores_test, i)\n",
    "        p_i = pValues(ncm_cal,ncm_test)\n",
    "        \n",
    "        micp_pValues.append(p_i)\n",
    "\n",
    "    micp_pValues = np.array(micp_pValues)\n",
    "    \n",
    "    return micp_pValues"
   ]
  },
  {
   "cell_type": "code",
   "execution_count": 13,
   "metadata": {},
   "outputs": [],
   "source": [
    "# ilsrvc_dir = \"/mnt/d/Research/ILSVRC2012/\"\n",
    "ilsrvc_dir = \".\""
   ]
  },
  {
   "cell_type": "code",
   "execution_count": 14,
   "metadata": {},
   "outputs": [],
   "source": [
    "gt_cal_file = os.path.join(ilsrvc_dir,\"cal_gt.txt\")\n",
    "gt_test_file = os.path.join(ilsrvc_dir,\"test_gt.txt\")\n",
    "lbls_file = os.path.join(ilsrvc_dir,\"labels.txt\")"
   ]
  },
  {
   "cell_type": "code",
   "execution_count": 15,
   "metadata": {},
   "outputs": [],
   "source": [
    "n_to_ki = {}\n",
    "ki_to_synset = {}\n",
    "with open(os.path.join(ilsrvc_dir,'synset_words.txt')) as f:\n",
    "    for i,l in enumerate(f):\n",
    "        n_to_ki[l.split()[0].strip()]=i\n",
    "        ki_to_synset[i]=l[10:].split(\",\")[0].strip()"
   ]
  },
  {
   "cell_type": "code",
   "execution_count": 16,
   "metadata": {},
   "outputs": [],
   "source": [
    "ground_truth_ki_cal = np.loadtxt(gt_cal_file,dtype=np.int)\n",
    "ground_truth_ki_test = np.loadtxt(gt_test_file,dtype=np.int)"
   ]
  },
  {
   "cell_type": "code",
   "execution_count": 17,
   "metadata": {},
   "outputs": [],
   "source": [
    "import io"
   ]
  },
  {
   "cell_type": "code",
   "execution_count": 18,
   "metadata": {},
   "outputs": [],
   "source": [
    "import PIL.Image\n",
    "import joblib"
   ]
  },
  {
   "cell_type": "code",
   "execution_count": 19,
   "metadata": {},
   "outputs": [],
   "source": [
    "mem = joblib.Memory('/dev/shm/joblib',verbose=0)\n",
    "\n",
    "@mem.cache\n",
    "def getImage(url):\n",
    "    img_data = PIL.Image.open(urllib.request.urlopen(url))\n",
    "    if img_data.mode != 'RGB':\n",
    "        img_data = img_data.convert('RGB')\n",
    "    img_data = img_data.resize((224,224),resample=PIL.Image.NEAREST)\n",
    "    return img_data    "
   ]
  },
  {
   "cell_type": "code",
   "execution_count": 20,
   "metadata": {},
   "outputs": [],
   "source": [
    "def get_prob_sets(preds, eps):\n",
    "    preds_as = np.argsort(-preds,axis=1)\n",
    "    preds_cumul = np.cumsum(np.take_along_axis(preds,preds_as,axis=1),axis=1)\n",
    "\n",
    "    set_masks = preds_cumul<1-eps\n",
    "    set_masks[:,1:] = set_masks[:,:-1]\n",
    "    set_masks[:,0] = True\n",
    "\n",
    "    sets = [(pr_as[m],pr[pr_as[m]]) for pr_as, m,pr in zip(preds_as,set_masks,preds)]\n",
    "    return sets"
   ]
  },
  {
   "cell_type": "code",
   "execution_count": 21,
   "metadata": {},
   "outputs": [],
   "source": [
    "def show_pic(i,eps, ncm):\n",
    "    if 0:   # for development environment\n",
    "        img_file = os.path.join(\".\",\"img\",\"ILSVRC2012_valsub_%08d.JPEG\"%i)\n",
    "        img_data = keras_image.load_img(img_file, target_size=(224, 224))\n",
    "    else:\n",
    "        url=\"\"\"https://cml.rhul.ac.uk/people/ptocca/ILSVRC2012-CP/img/ILSVRC2012_valsub_%08d.JPEG\"\"\"%i\n",
    "        img_data = getImage(url)\n",
    "\n",
    "    output = io.BytesIO()\n",
    "    img_data.save(output,format=\"PNG\")\n",
    "    img.value = output.getvalue()\n",
    "\n",
    "    # compute ResNet50 preds\n",
    "    x = keras_image.img_to_array(img_data)\n",
    "    x = np.expand_dims(x, axis=0)\n",
    "    x = preprocess_input(x)\n",
    "    test_preds = model.predict(x)\n",
    "    resNet50_set = zip(*(get_prob_sets(test_preds.reshape(1,-1), eps=eps)[0]))\n",
    "\n",
    "    # compute CP\n",
    "    if ncm=='NegProb':\n",
    "        ncm_f = rev_score\n",
    "    elif ncm=='Ratio':\n",
    "        ncm_f = ratio_own_to_max\n",
    "        \n",
    "    p_vals = micp_pValues(preds_cal, test_preds, ground_truth_ki_cal, ncm=ncm_f)\n",
    "    ps = np.argwhere(p_vals>eps)[:,0].T\n",
    "    ps_p_vals = p_vals[ps].flatten()\n",
    "    sorting_by_p_val = np.argsort(ps_p_vals)[::-1] \n",
    "    ps_synset = [ki_to_synset[k]+\": %0.3f\"%p for k,p in zip(ps[sorting_by_p_val],ps_p_vals[sorting_by_p_val])]\n",
    "    \n",
    "    # Do all widget updates\n",
    "    ## update ground truth widget\n",
    "    lbl = ki_to_synset[ground_truth_ki_test[i-1]]\n",
    "    desc.children[1].value = lbl\n",
    "\n",
    "    ## update resNet50 widget\n",
    "    resnet50.children[0].value = \"ResNet50 (prob) at aggr prob %0.2f\"%(1-eps)\n",
    "    resnet50.children[1].value = \"\\n\".join([\"%s: %0.3f\"%(ki_to_synset[k],pr) for k,pr in resNet50_set])\n",
    "\n",
    "    ## update CP widget\n",
    "    CP.children[0].value = \"CP (p-value) at significance level %0.2f\"%eps\n",
    "    CP.children[1].value = \"\\n\".join(ps_synset)\n",
    "    return"
   ]
  },
  {
   "cell_type": "code",
   "execution_count": 22,
   "metadata": {},
   "outputs": [],
   "source": [
    "import ipywidgets as ipw"
   ]
  },
  {
   "cell_type": "code",
   "execution_count": 23,
   "metadata": {},
   "outputs": [],
   "source": [
    "with open(\"ILSRVC_CP_Notes.html\") as f:\n",
    "    notes = f.read()\n"
   ]
  },
  {
   "cell_type": "code",
   "execution_count": 24,
   "metadata": {},
   "outputs": [
    {
     "output_type": "display_data",
     "data": {
      "text/plain": "<IPython.core.display.HTML object>",
      "text/html": "<style>\n    .widget-label {font-size: 16px;}\n    .widget-htmlmath {font-size: 16px;}\n    .widget-html {font-size: 16px;}\n    .widget-textarea > textarea {font-size: 16px;}\n    .widget-radio-box > label {font-size: 16px;}\n    .widget-readout  {font-size: 16px;}\n</style>\n"
     },
     "metadata": {}
    }
   ],
   "source": [
    "%%html\n",
    "<style>\n",
    "    .widget-label {font-size: 16px;}\n",
    "    .widget-htmlmath {font-size: 16px;}\n",
    "    .widget-html {font-size: 16px;}\n",
    "    .widget-textarea > textarea {font-size: 16px;}\n",
    "    .widget-radio-box > label {font-size: 16px;}\n",
    "    .widget-readout  {font-size: 16px;}\n",
    "</style>"
   ]
  },
  {
   "cell_type": "code",
   "execution_count": 25,
   "metadata": {},
   "outputs": [],
   "source": [
    "initial_pic = 1000\n",
    "initial_eps = 0.2\n",
    "initial_ncm = \"NegProb\"\n",
    "\n",
    "desc = ipw.HBox([ipw.Label(\"ImageNet label:\"),\n",
    "             ipw.HTML(\"N/A\")],layout=ipw.Layout(align='center',border=\"solid\",padding=\"7px 27px 7px 27px\"))\n",
    "#desc.add_class(\"fontsize16px\")\n",
    "\n",
    "img = ipw.Image(layout=ipw.Layout(height=\"400px\",width=\"400px\"))\n",
    "\n",
    "resnet50 = ipw.VBox([ipw.Label(\"ResNet50 Probability (top 5)\"),\n",
    "                     ipw.Textarea(layout=ipw.Layout(height=\"100%\"))])\n",
    "\n",
    "CP = ipw.VBox([ipw.Label(\"Conformal Predictor at significance level 'eps'\"),\n",
    "               ipw.Textarea(layout=ipw.Layout(height=\"100%\"))])\n",
    "\n",
    "NCM = ipw.RadioButtons(options=['NegProb','Ratio'],\n",
    "                       value=initial_ncm,\n",
    "                       description=\"NCM:\")\n",
    "NCM_frame = ipw.VBox([ipw.Label(\"\"), NCM])  # Just to align nicely\n",
    "               \n",
    "\n",
    "labels = ipw.HBox([resnet50,CP,NCM_frame],layout=ipw.Layout(height=\"200px\",align_content=\"stretch\"))\n",
    "\n",
    "pic_idx = ipw.IntSlider(value=initial_pic, description=\"Image:\",\n",
    "                        min=1, max=2000, continuous_update=False,\n",
    "                        layout=ipw.Layout(width=\"90%\", align_items='center'))\n",
    "eps_slider = ipw.FloatSlider(value=initial_eps, description=\"Epsilon\",\n",
    "                             min=1e-8, max=1.0, step=0.01,\n",
    "                             continuous_update=False,\n",
    "                             layout=ipw.Layout(width=\"90%\", align_items='center'))\n",
    "\n",
    "heading = ipw.HTML(value=\"<h1>Demo of Conformal Prediction using ResNet50 on ImageNet data</h1>\")\n",
    "\n",
    "gui_tab = ipw.VBox([heading, img, desc, pic_idx, eps_slider, labels], layout=ipw.Layout(align_items='center'))\n",
    "help_tab = ipw.HTMLMath(value=notes)\n",
    "\n",
    "gui = ipw.Tab(children=[gui_tab,help_tab])\n",
    "gui.set_title(0,\"Demo\")\n",
    "gui.set_title(1,\"Notes\")\n",
    "\n",
    "show_pic(initial_pic,initial_eps,initial_ncm)\n",
    "\n",
    "#clear_output();\n"
   ]
  },
  {
   "cell_type": "code",
   "execution_count": null,
   "metadata": {},
   "outputs": [],
   "source": []
  },
  {
   "cell_type": "code",
   "execution_count": 26,
   "metadata": {
    "scrolled": false
   },
   "outputs": [
    {
     "output_type": "display_data",
     "data": {
      "text/plain": "Tab(children=(VBox(children=(HTML(value='<h1>Demo of Conformal Prediction using ResNet50 on ImageNet data</h1>…",
      "application/vnd.jupyter.widget-view+json": {
       "version_major": 2,
       "version_minor": 0,
       "model_id": "2804381382be40e68de14dc52bb03ebe"
      }
     },
     "metadata": {}
    }
   ],
   "source": [
    "ipw.interactive(show_pic,i = pic_idx, eps = eps_slider, ncm = NCM)\n",
    "\n",
    "gui"
   ]
  },
  {
   "cell_type": "code",
   "execution_count": null,
   "metadata": {},
   "outputs": [],
   "source": []
  },
  {
   "cell_type": "code",
   "execution_count": null,
   "metadata": {},
   "outputs": [],
   "source": []
  }
 ],
 "metadata": {
  "kernelspec": {
   "display_name": "Python 3.7.6 64-bit ('tf_ilsvrc': conda)",
   "language": "python",
   "name": "python37664bittfilsvrccondaac7ef3327698412cb6299e7d2e08b83e"
  },
  "language_info": {
   "codemirror_mode": {
    "name": "ipython",
    "version": 3
   },
   "file_extension": ".py",
   "mimetype": "text/x-python",
   "name": "python",
   "nbconvert_exporter": "python",
   "pygments_lexer": "ipython3",
   "version": "3.7.6-final"
  }
 },
 "nbformat": 4,
 "nbformat_minor": 4
}